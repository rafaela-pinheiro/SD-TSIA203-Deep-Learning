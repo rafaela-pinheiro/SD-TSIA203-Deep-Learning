{
  "cells": [
    {
      "cell_type": "markdown",
      "metadata": {},
      "source": [
        "Student: Rafaela de Carvalho Machado Pinheiro"
      ]
    },
    {
      "cell_type": "markdown",
      "metadata": {
        "id": "WpYK9fIlyZCq"
      },
      "source": [
        "# Lab Deep Learning / Multi-Layer Perceptron for classification / in pytorch\n",
        "\n",
        "**Author: geoffroy.peeters@telecom-paris.fr**\n",
        "\n",
        "For any remark or suggestion, please feel free to contact me.\n",
        "\n",
        "Last edit: 2020/04/27 peeters\n",
        "\n",
        "Read the \"introduction to pytorch\" slides first: https://perso.telecom-paristech.fr/gpeeters/doc/pytorch/\n",
        "\n",
        "**Is is recommended that you first perform the ```Lab Deep Learning / Multi-Layer Perceptron for regression / in pytorch``` Lab to understand how to write a Neural Network in pytorch.**\n",
        "\n",
        "\n",
        "## Objective:\n",
        "\n",
        "The objective of this lab is to develop a two hidden layers MLP to perform image **classification**.\n",
        "\n",
        "While the previous Lab ```Lab Deep Learning / Multi-Layer Perceptron for regression / in pytorch``` focused on how to write a Neural Network, the present Lab focuses on managing datasets and splitting training and testing .\n",
        "\n",
        "We will use MNIST for the image dataset.\n",
        "\n",
        "## Your task:\n",
        "\n",
        "You need to add the missing parts in the code (parts between ```# --- START CODE HERE``` and ```# --- END CODE HERE```)\n",
        "\n",
        "## Documentation:\n",
        "- NN: https://pytorch.org/docs/stable/nn.html\n",
        "- Autograd: https://pytorch.org/docs/stable/autograd.html\n",
        "- Optim: https://pytorch.org/docs/stable/optim.html\n"
      ]
    },
    {
      "cell_type": "code",
      "execution_count": 20,
      "metadata": {
        "id": "h6o3NZfNyZCt"
      },
      "outputs": [],
      "source": [
        "import torch\n",
        "import torch.nn as nn\n",
        "import torch.nn.functional as F\n",
        "import torch.optim as optim\n",
        "from torchvision import datasets, transforms\n",
        "import matplotlib.pyplot as plt"
      ]
    },
    {
      "cell_type": "markdown",
      "metadata": {
        "id": "Vy7u-IVkyZCu"
      },
      "source": [
        "## Data management\n",
        "\n",
        "It is common to separate the datasets into\n",
        "- a **training** part (used to find the network parameters which minimize the loss)\n",
        "- a **test part** (used to estimate the performances).\n",
        "\n",
        "The training part can itself be further splitted into a training and a validation part (the validation part is then used to fix the hyper-parameters of the system).\n",
        "\n",
        "When performing ```batch gradient descent``` the whole training set is used to compute the gradients (which itself is used for the parameter optimization).\n",
        "However when performing ```stochastic or mini-batch gradient descent``` only a part of the training data is used at each iteration.\n",
        "\n",
        "We therefore needs to write all the necessary code, to get these mini-batches of data, be sure that all data have been seen, potentially randomize the order of appearance of these data and potentially perform some modifications of the data before giving them to the network.\n",
        "\n",
        "Fortunatelly, pytorch has associated to it (but not included in it) a nice package (```torchvision```) which allows to do all that for us.\n",
        "\n",
        "This package allows to perform these process for any datasets but has a pre-tuned method for the ```MNIST```datasets.\n",
        "\n",
        "### Datasets\n",
        "\n",
        "In the following we will us ```datasets.MNIST``` to load the train and test data.\n",
        "\n",
        "We need to tell it to download the data, where to dowload them and if we want the training or the testing part of it.\n",
        "\n",
        "We then tell it if we want to apply some transformations to the data.\n",
        "\n",
        "For this lab, we will transform the data by\n",
        "- 1) transforming them to torch tensors (using ```transforms.ToTensor()```); since by default they are not torch tensors\n",
        "- 2) normalize them to zero mean and unit standard deviation (using ```transforms.Normalize()```).\n",
        "\n",
        "It is of course possible to also apply data augmentation.\n",
        "\n",
        "Since we have several transforms to be performed, we will compose them using ```transforms.Compose([transform1, transform2])```\n",
        "\n",
        "The corresponding datasets is a class which contains the pairs of [input tensors $X$, corresponding ground-truth label $y$].\n",
        "\n",
        "### Dataloader\n",
        "\n",
        "Another nice pytorch facility is the ```Dataloader``` which transforms the dataset to be used as an iterator (i.e. within ```for data in myDataloader: ```).\n",
        "\n",
        "Moreover, ```Dataloader``` allows to specify\n",
        "- how many data will be provided each time it is called (```batch_size```)\n",
        "- if the order of appearance of the data with be random (````shuffle````).\n",
        "\n",
        "We therefore convert our datasets (train and test) to ```DataLoader``` that are directly used as iterator during the iterations (it DataLoader manage directly the mini-batch and shuffling)."
      ]
    },
    {
      "cell_type": "code",
      "execution_count": 21,
      "metadata": {
        "id": "zsSEvakPyZCv"
      },
      "outputs": [],
      "source": [
        "# --- START CODE HERE (01)\n",
        "\n",
        "batch_size = 64\n",
        "train_set = datasets.MNIST(\n",
        "    root='./content',\n",
        "    train=True,\n",
        "    download=True,\n",
        "    transform=transforms.Compose([\n",
        "        transforms.ToTensor(),\n",
        "        transforms.Normalize(0,1)\n",
        "    ])\n",
        ")\n",
        "train_loader = torch.utils.data.DataLoader(\n",
        "    train_set,\n",
        "    batch_size=batch_size,\n",
        "    shuffle=True\n",
        ")\n",
        "test_set = datasets.MNIST(\n",
        "    root='./content',\n",
        "    train=False,\n",
        "    download=True,\n",
        "    transform=transforms.Compose([transforms.ToTensor(), transforms.Normalize(0,1)])\n",
        ")\n",
        "test_loader = torch.utils.data.DataLoader(test_set, batch_size=batch_size, shuffle=True)\n",
        "# --- END CODE HERE"
      ]
    },
    {
      "cell_type": "code",
      "execution_count": 22,
      "metadata": {
        "colab": {
          "base_uri": "https://localhost:8080/",
          "height": 240
        },
        "id": "FFuEXr0tyZCw",
        "outputId": "59ad5329-e7b3-4dd3-f0f7-79bbbcfde7f7"
      },
      "outputs": [
        {
          "name": "stdout",
          "output_type": "stream",
          "text": [
            "dataset type: <class 'torchvision.datasets.mnist.MNIST'>\n",
            "dataset size: 60000\n",
            "X data: torch.Size([1, 28, 28])\n",
            "y data: 5\n"
          ]
        }
      ],
      "source": [
        "print(\"dataset type: {}\".format(type(train_set)))\n",
        "print(\"dataset size: {}\".format(len(train_set)))\n",
        "print(\"X data: {}\".format(train_set[0][0].size()))\n",
        "print(\"y data: {}\".format(train_set[0][1]))"
      ]
    },
    {
      "cell_type": "markdown",
      "metadata": {
        "id": "piAf25dxyZCx"
      },
      "source": [
        "### Display the first 5 data of MNIST dataset."
      ]
    },
    {
      "cell_type": "code",
      "execution_count": 23,
      "metadata": {
        "id": "Jsa2MAEhyZCx"
      },
      "outputs": [
        {
          "data": {
            "image/png": "[encoded data removed]",
            "text/plain": [
              "<Figure size 640x480 with 5 Axes>"
            ]
          },
          "metadata": {},
          "output_type": "display_data"
        }
      ],
      "source": [
        "# ------------------------------------\n",
        "for num in range(0,5):\n",
        "    one_data = next(iter(train_loader))\n",
        "    plt.subplot(1,5,num+1)\n",
        "    plt.imshow(one_data[0][0][0,:,:])\n",
        "    plt.title(one_data[1][0].item())"
      ]
    },
    {
      "cell_type": "markdown",
      "metadata": {
        "id": "bo6-KX8UyZCy"
      },
      "source": [
        "## Network setting\n",
        "\n",
        "While image classification, is usually performed using Convolutional Neural Networks, we will use here a Multi-Layer-Perceptron (also named ```fully-connected```).\n",
        "For this, we will flatten (i.e. convert the iamge 2D matrix to a 1D vector) the input images.\n",
        "\n",
        "- The input images are of size 28*28 and are converted to vectors of size ```n_in```=784.\n",
        "\n",
        "- The two hidden layers have````n_h1````=500 and ```n_h2```=256 unit/neurons each and ```Relu```activations.\n",
        "\n",
        "- The output are the ```n_out```=10 classes (the 10 digits to be recognized).\n",
        "\n",
        "Since we deal with a muti-class problem (10 classes), the output activations is therefore a ```softmax```.\n",
        "\n",
        "Note that since the ```softmax```output will be given to a ```cross-entropy```, the ```log```et the latter can be directly added to the ```softmax```. This leads to the pytorch function ```F.log_softmax```.\n"
      ]
    },
    {
      "cell_type": "code",
      "execution_count": 24,
      "metadata": {
        "id": "H0uIIQb9yZCy"
      },
      "outputs": [],
      "source": [
        "class Net(nn.Module):\n",
        "    def __init__(self):\n",
        "        n_in = 28*28\n",
        "        n_h1 = 500\n",
        "        n_h2 = 256\n",
        "        n_out = 10\n",
        "        super(Net, self).__init__()\n",
        "        # --- START CODE HERE  (02)\n",
        "        self.fc1 = nn.Linear(n_in, n_h1)\n",
        "        self.fc2 = nn.Linear(n_h1, n_h2)\n",
        "        self.fc3 = nn.Linear(n_h2, n_out)\n",
        "        self.relu = nn.ReLU()\n",
        "        # --- END CODE HERE\n",
        "    def forward(self, x):\n",
        "        # --- START CODE HERE  (03)\n",
        "        x = x.view(-1, 28 * 28)\n",
        "        x = self.fc1(x)\n",
        "        x = self.relu(x)\n",
        "        x = self.fc2(x)\n",
        "        x = self.relu(x)\n",
        "        x = self.fc3(x)\n",
        "        # --- END CODE HERE\n",
        "        return F.log_softmax(x, dim=1)"
      ]
    },
    {
      "cell_type": "markdown",
      "metadata": {
        "id": "x7qcgKFwyZCz"
      },
      "source": [
        "## Defining the train and test functions\n",
        "\n",
        "In the present lab, we distinguish between train and test data.\n",
        "We therefore write\n",
        "- a train function (to learn the network parameters on the train data),\n",
        "- a test function (to evaluate the network's performances on the test data).\n",
        "\n",
        "The ```train``` and ```test```function will perform the computation for a given ```epoch```.\n",
        "The functions therefore only need to ```loop over``` the mini-batches.\n",
        "This is now easy since we defined our ```Dataloader```for train and test.\n",
        "\n",
        "For the train function, for each mini-batch, we  \n",
        "- compute the forward pass by passing the data to the model: haty = model(x)\n",
        "- compute the the loss (the criterion)\n",
        "- putting at zero the gradients of all the parameters of the network (this is important since, by default, pytorch accumulate the gradients over time)\n",
        "- computing the backpropagation (using as before .backward())\n",
        "- performing one step of optimization (using .step())\n",
        "\n",
        "For the train function, we set the model to train mode (```model.train()```). This allows to set some specific behaviours for training (such as activate the dropout).\n",
        "\n",
        "For the test function, we set the model to train mode (```model.eval()```). This allows to set some specific behaviours for training (such as removing the dropout).\n",
        "\n",
        "\n",
        "Since we are dealing with a multi-class problem (10 classes), we will minimize as loss the ```cross-entropy``` (named negative-log-likelihood ```nll_loss```in pytorch).\n",
        "Since ```nll_loss```does not contains the ```log``` we have added it directly to the softmax by using the ```log_softmax```as output activation of our network.\n",
        "\n",
        "Note that we could use the loss from the nn package (```torch.nn.NLLLoss```) it is then a class which needs to be first instanciated.\n",
        "We can also use the same but as a function (```F.nll_loss()```) which can be used directly without instanciating the class."
      ]
    },
    {
      "cell_type": "code",
      "execution_count": 28,
      "metadata": {
        "id": "3dGuPt96yZCz"
      },
      "outputs": [],
      "source": [
        "def train(model, train_loader, optimizer, epoch):\n",
        "    model.train()\n",
        "    for batch_idx, (data, target) in enumerate(train_loader):\n",
        "        # --- START CODE HERE  (04)\n",
        "        y_pred = model(data)\n",
        "        loss = F.nll_loss(y_pred, target)\n",
        "        optimizer.zero_grad()\n",
        "        loss.backward()\n",
        "        optimizer.step()\n",
        "        # --- END CODE HERE\n",
        "\n",
        "        if batch_idx % 100 == 0:\n",
        "            print('epoch {}, loss {}'.format(epoch, loss.item()))"
      ]
    },
    {
      "cell_type": "code",
      "execution_count": 29,
      "metadata": {
        "id": "zI8QtzV2yZC0"
      },
      "outputs": [],
      "source": [
        "def test(model, test_loader):\n",
        "    model.eval()\n",
        "    test_loss = 0\n",
        "    correct = 0\n",
        "    with torch.no_grad():\n",
        "        for data, target in test_loader:\n",
        "            # --- START CODE HERE  (05)\n",
        "            y_pred = model(data)\n",
        "            test_loss += F.nll_loss(y_pred, target)\n",
        "            y_pred = torch.argmax(y_pred, dim=1)\n",
        "            correct += (y_pred == target).sum().item()\n",
        "            # --- STOP CODE HERE\n",
        "\n",
        "    test_loss /= len(test_loader.dataset)\n",
        "    correct /= len(test_loader.dataset)\n",
        "    print('\\nTest set: Average loss: {}, Accuracy: {}\\n'.format(test_loss, correct))"
      ]
    },
    {
      "cell_type": "markdown",
      "metadata": {
        "id": "9MXQIbcJyZC0"
      },
      "source": [
        "## Looping over epochs\n",
        "\n",
        "\n",
        "We finally define, how we will optimize our parameters by defining an optimizer.\n",
        "We will use here a very simple one: the SGD (```optim.SGD```) with a learning rate of 0.01.\n",
        "\n",
        "At each iteration, we then call the train and the test function."
      ]
    },
    {
      "cell_type": "code",
      "execution_count": 30,
      "metadata": {
        "id": "ofYcX05ZyZC0"
      },
      "outputs": [
        {
          "name": "stdout",
          "output_type": "stream",
          "text": [
            "epoch 1, loss 2.3005497455596924\n",
            "epoch 1, loss 0.7065828442573547\n",
            "epoch 1, loss 0.3848169445991516\n",
            "epoch 1, loss 0.42238175868988037\n",
            "epoch 1, loss 0.17371919751167297\n",
            "epoch 1, loss 0.6863117814064026\n",
            "epoch 1, loss 0.28237172961235046\n",
            "epoch 1, loss 0.2827399969100952\n",
            "epoch 1, loss 0.29151931405067444\n",
            "epoch 1, loss 0.18561461567878723\n",
            "\n",
            "Test set: Average loss: 0.0033940079156309366, Accuracy: 0.9354\n",
            "\n",
            "epoch 2, loss 0.33282315731048584\n",
            "epoch 2, loss 0.0998687818646431\n",
            "epoch 2, loss 0.21129339933395386\n",
            "epoch 2, loss 0.24311359226703644\n",
            "epoch 2, loss 0.1376468688249588\n",
            "epoch 2, loss 0.2244209498167038\n",
            "epoch 2, loss 0.14292801916599274\n",
            "epoch 2, loss 0.15508493781089783\n",
            "epoch 2, loss 0.17391890287399292\n",
            "epoch 2, loss 0.2960583567619324\n",
            "\n",
            "Test set: Average loss: 0.0020358669571578503, Accuracy: 0.9596\n",
            "\n",
            "epoch 3, loss 0.09978742897510529\n",
            "epoch 3, loss 0.12446732819080353\n",
            "epoch 3, loss 0.07846318930387497\n",
            "epoch 3, loss 0.3098548352718353\n",
            "epoch 3, loss 0.04132496938109398\n",
            "epoch 3, loss 0.12154784053564072\n",
            "epoch 3, loss 0.10306036472320557\n",
            "epoch 3, loss 0.053920138627290726\n",
            "epoch 3, loss 0.1605857014656067\n",
            "epoch 3, loss 0.03421095386147499\n",
            "\n",
            "Test set: Average loss: 0.0016561406664550304, Accuracy: 0.9659\n",
            "\n",
            "epoch 4, loss 0.09798581153154373\n",
            "epoch 4, loss 0.11568046361207962\n",
            "epoch 4, loss 0.09750542789697647\n",
            "epoch 4, loss 0.07944366335868835\n",
            "epoch 4, loss 0.08192870020866394\n",
            "epoch 4, loss 0.09670238196849823\n",
            "epoch 4, loss 0.0947943702340126\n",
            "epoch 4, loss 0.0539313443005085\n",
            "epoch 4, loss 0.04432528838515282\n",
            "epoch 4, loss 0.057162828743457794\n",
            "\n",
            "Test set: Average loss: 0.0013306812616065145, Accuracy: 0.9724\n",
            "\n",
            "epoch 5, loss 0.06860079616308212\n",
            "epoch 5, loss 0.042290493845939636\n",
            "epoch 5, loss 0.03799080103635788\n",
            "epoch 5, loss 0.02529178559780121\n",
            "epoch 5, loss 0.16404181718826294\n",
            "epoch 5, loss 0.15794865787029266\n",
            "epoch 5, loss 0.1159563958644867\n",
            "epoch 5, loss 0.04094327613711357\n",
            "epoch 5, loss 0.27061331272125244\n",
            "epoch 5, loss 0.1171560287475586\n",
            "\n",
            "Test set: Average loss: 0.001182211795821786, Accuracy: 0.9766\n",
            "\n",
            "epoch 6, loss 0.0814298614859581\n",
            "epoch 6, loss 0.035575076937675476\n",
            "epoch 6, loss 0.023717688396573067\n",
            "epoch 6, loss 0.01922295056283474\n",
            "epoch 6, loss 0.035395022481679916\n",
            "epoch 6, loss 0.028996359556913376\n",
            "epoch 6, loss 0.11409603804349899\n",
            "epoch 6, loss 0.08269350230693817\n",
            "epoch 6, loss 0.09648212045431137\n",
            "epoch 6, loss 0.04940886050462723\n",
            "\n",
            "Test set: Average loss: 0.0011406769044697285, Accuracy: 0.9771\n",
            "\n",
            "epoch 7, loss 0.020593972876667976\n",
            "epoch 7, loss 0.08480663597583771\n",
            "epoch 7, loss 0.11595470458269119\n",
            "epoch 7, loss 0.020638475194573402\n",
            "epoch 7, loss 0.06445539742708206\n",
            "epoch 7, loss 0.020833805203437805\n",
            "epoch 7, loss 0.013230353593826294\n",
            "epoch 7, loss 0.009550942108035088\n",
            "epoch 7, loss 0.025909120216965675\n",
            "epoch 7, loss 0.012660580687224865\n",
            "\n",
            "Test set: Average loss: 0.0011276742443442345, Accuracy: 0.9766\n",
            "\n",
            "epoch 8, loss 0.061742253601551056\n",
            "epoch 8, loss 0.01803063601255417\n",
            "epoch 8, loss 0.11152314394712448\n",
            "epoch 8, loss 0.025589587166905403\n",
            "epoch 8, loss 0.0060049500316381454\n",
            "epoch 8, loss 0.040866535156965256\n",
            "epoch 8, loss 0.008740139193832874\n",
            "epoch 8, loss 0.02272716723382473\n",
            "epoch 8, loss 0.05681309103965759\n",
            "epoch 8, loss 0.06881999224424362\n",
            "\n",
            "Test set: Average loss: 0.0009908092906698585, Accuracy: 0.98\n",
            "\n",
            "epoch 9, loss 0.011502442881464958\n",
            "epoch 9, loss 0.15560562908649445\n",
            "epoch 9, loss 0.014911636710166931\n",
            "epoch 9, loss 0.023935511708259583\n",
            "epoch 9, loss 0.07768446207046509\n",
            "epoch 9, loss 0.00853054691106081\n",
            "epoch 9, loss 0.00832049734890461\n",
            "epoch 9, loss 0.01229796651750803\n",
            "epoch 9, loss 0.010810104198753834\n",
            "epoch 9, loss 0.0034860875457525253\n",
            "\n",
            "Test set: Average loss: 0.0010180004173889756, Accuracy: 0.9792\n",
            "\n",
            "epoch 10, loss 0.0143301822245121\n",
            "epoch 10, loss 0.010013842023909092\n",
            "epoch 10, loss 0.007194976322352886\n",
            "epoch 10, loss 0.008817145600914955\n",
            "epoch 10, loss 0.01791076362133026\n",
            "epoch 10, loss 0.00561684463173151\n",
            "epoch 10, loss 0.012351933866739273\n",
            "epoch 10, loss 0.002565613714978099\n",
            "epoch 10, loss 0.025072697550058365\n",
            "epoch 10, loss 0.03322495147585869\n",
            "\n",
            "Test set: Average loss: 0.0009167657699435949, Accuracy: 0.9812\n",
            "\n"
          ]
        }
      ],
      "source": [
        "model = Net()\n",
        "optimizer = optim.SGD(model.parameters(), lr=0.01, momentum=0.9)\n",
        "nb_epoch = 10\n",
        "for epoch in range(1, nb_epoch + 1):\n",
        "        # --- START CODE HERE  (06)\n",
        "        train(model, train_loader, optimizer, epoch)\n",
        "        test(model, test_loader)\n",
        "        # --- END CODE HERE"
      ]
    },
    {
      "cell_type": "markdown",
      "metadata": {
        "id": "rXOlN4Bj4Sk0"
      },
      "source": [
        "# Peer-grading\n",
        "\n",
        "To great the Lab, you will apply the following:\n",
        "- When the code of a part (each part is numbered as \"START CODE (01)\" ... \"START CODE (06)\") is correct you get 1.5 point.\n",
        "- You will give one extra point is all the code is correct and run smoothly\n",
        "- So the total for Lab is 10 points."
      ]
    },
    {
      "cell_type": "code",
      "execution_count": null,
      "metadata": {
        "id": "Rmga0J_oyZC1"
      },
      "outputs": [],
      "source": []
    }
  ],
  "metadata": {
    "colab": {
      "provenance": [],
      "toc_visible": true
    },
    "kernelspec": {
      "display_name": "Python 3",
      "language": "python",
      "name": "python3"
    },
    "language_info": {
      "codemirror_mode": {
        "name": "ipython",
        "version": 3
      },
      "file_extension": ".py",
      "mimetype": "text/x-python",
      "name": "python",
      "nbconvert_exporter": "python",
      "pygments_lexer": "ipython3",
      "version": "3.12.6"
    },
    "toc": {
      "base_numbering": 1,
      "nav_menu": {},
      "number_sections": true,
      "sideBar": true,
      "skip_h1_title": false,
      "title_cell": "Table of Contents",
      "title_sidebar": "Contents",
      "toc_cell": false,
      "toc_position": {
        "height": "calc(100% - 180px)",
        "left": "10px",
        "top": "150px",
        "width": "165px"
      },
      "toc_section_display": true,
      "toc_window_display": false
    }
  },
  "nbformat": 4,
  "nbformat_minor": 0
}
